{
 "cells": [
  {
   "cell_type": "code",
   "execution_count": 21,
   "id": "871d5aa4",
   "metadata": {},
   "outputs": [],
   "source": [
    "import requests\n",
    "import tkinter as tk"
   ]
  },
  {
   "cell_type": "markdown",
   "id": "919d3ac3",
   "metadata": {},
   "source": [
    "# Design UI of application"
   ]
  },
  {
   "cell_type": "code",
   "execution_count": 22,
   "id": "08bc4187",
   "metadata": {},
   "outputs": [],
   "source": [
    "canvas  = tk.Tk()\n",
    "canvas.geometry(\"1200x1000\")\n",
    "canvas.title(\"Tech News App\")\n",
    "\n",
    "\n",
    "def getNews():\n",
    "    api_key = \"70b11eafbe6b4228b4e5613edaa86906\"\n",
    "    url = \"https://newsapi.org/v2/top-headlines?sources=techcrunch&apiKey=\" + api_key\n",
    "    news = requests.get(url).json()\n",
    "    articles = news[\"articles\"]\n",
    "    \n",
    "    my_articles = []\n",
    "    my_news = \"\"\n",
    "    \n",
    "    for article in articles:\n",
    "        my_articles.append(article[\"title\"])\n",
    "        \n",
    "    for i in range(10):\n",
    "        my_news = my_news + str(i+1) + \". \" + my_articles[i] + \"\\n\"\n",
    "    \n",
    "    # text get in UI\n",
    "    label.config(text = my_news)\n",
    "    \n",
    "# create pattern\n",
    "button = tk.Button(canvas,font = 24, text = \"Reload\",command = getNews)\n",
    "button.pack(pady = 20)\n",
    "\n",
    "# level to show your text\n",
    "label = tk.Label(canvas,font = 18, justify = \"left\")\n",
    "label.pack(pady = 20)\n",
    "\n",
    "getNews()\n",
    "\n",
    "canvas.mainloop()"
   ]
  },
  {
   "cell_type": "code",
   "execution_count": null,
   "id": "5885fd7f",
   "metadata": {},
   "outputs": [],
   "source": []
  }
 ],
 "metadata": {
  "kernelspec": {
   "display_name": "Python 3 (ipykernel)",
   "language": "python",
   "name": "python3"
  },
  "language_info": {
   "codemirror_mode": {
    "name": "ipython",
    "version": 3
   },
   "file_extension": ".py",
   "mimetype": "text/x-python",
   "name": "python",
   "nbconvert_exporter": "python",
   "pygments_lexer": "ipython3",
   "version": "3.9.7"
  }
 },
 "nbformat": 4,
 "nbformat_minor": 5
}
